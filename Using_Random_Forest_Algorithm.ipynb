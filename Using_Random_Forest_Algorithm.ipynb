{
  "cells": [
    {
      "cell_type": "markdown",
      "metadata": {
        "id": "KxCfIMkxY6NR"
      },
      "source": [
        "Project Tile : Heart Disease Prediction\n",
        "\n",
        "Goal : Predict the heart disease risk of patients.\n",
        "\n",
        "Author Name : Joana Lawer & Samuel Osei"
      ]
    },
    {
      "cell_type": "markdown",
      "metadata": {
        "id": "FaEM3hmdY6NW"
      },
      "source": [
        "### Loading Data"
      ]
    },
    {
      "cell_type": "code",
      "execution_count": null,
      "metadata": {
        "id": "TJC0CcVvY6NX"
      },
      "outputs": [],
      "source": [
        "# Import necessary modules\n",
        "import numpy as np\n",
        "import pandas as pd\n",
        "import matplotlib.pyplot as plt\n",
        "import seaborn as sns"
      ]
    },
    {
      "cell_type": "code",
      "execution_count": null,
      "metadata": {
        "id": "NMVohewnZYRO"
      },
      "outputs": [],
      "source": [
        "# df is the variable name of our dataset\n",
        "from google.colab import drive\n",
        "drive.mount('/content/gdrive')\n",
        "df = pd.read_csv('/content/gdrive/My Drive/Colab Notebooks/Data/framingham.csv')\n",
        "df.head(5)"
      ]
    },
    {
      "cell_type": "code",
      "execution_count": null,
      "metadata": {
        "id": "_eUbKdyEY6NZ"
      },
      "outputs": [],
      "source": [
        "# Load the dataset and view first 10 entries. (Use if dataset is in the same folder as notebook)\n",
        "# df = pd.read_csv('framingham.csv')\n",
        "# df.head(10)"
      ]
    },
    {
      "cell_type": "code",
      "execution_count": null,
      "metadata": {
        "id": "q0m7XmfOY6NZ"
      },
      "outputs": [],
      "source": [
        "# View shape of dataset (number of rows and columns)\n",
        "# df.shape\n",
        "print ('No. of Rows :', df.shape[0], '\\nNo. of Columns : ', df.shape[1])"
      ]
    },
    {
      "cell_type": "markdown",
      "metadata": {
        "id": "LTYb4E4sY6NZ"
      },
      "source": [
        "- The columns represent the features and the rows represent the observations"
      ]
    },
    {
      "cell_type": "code",
      "execution_count": null,
      "metadata": {
        "id": "ylV-Wp_pY6Na"
      },
      "outputs": [],
      "source": [
        "#  View statistical info of the dataset\n",
        "df.describe()"
      ]
    },
    {
      "cell_type": "code",
      "execution_count": null,
      "metadata": {
        "id": "Y4WtEJrHY6Na"
      },
      "outputs": [],
      "source": [
        "# View the datatype attributes of the features\n",
        "df.info()"
      ]
    },
    {
      "cell_type": "code",
      "source": [
        "# Check if there are any duplication in the dataset\n"
      ],
      "metadata": {
        "id": "vCdVDNmng0KU"
      },
      "execution_count": null,
      "outputs": []
    },
    {
      "cell_type": "code",
      "execution_count": null,
      "metadata": {
        "id": "HiEpYT1lJDv7"
      },
      "outputs": [],
      "source": [
        "# Check the categorical coulumns in the dataset\n",
        "cat_cols = df.select_dtypes(include='object').columns.tolist()\n",
        "print(cat_cols)"
      ]
    },
    {
      "cell_type": "code",
      "execution_count": null,
      "metadata": {
        "id": "Pvzh7LxHJ0x2"
      },
      "outputs": [],
      "source": [
        "print(f\"{'Feature': <20} \\t {'No. of values': <20}\")\n",
        "print('-'*40)\n",
        "for col in cat_cols:\n",
        "    print(f\"{col: <20} \\t {df[col].nunique(): <20}\")"
      ]
    },
    {
      "cell_type": "markdown",
      "metadata": {
        "id": "Z4kDGzcYQPn1"
      },
      "source": [
        "We see that all categorical values have two distinct values each. Sex has male and female, while currentSmoker, BPMeds, prevalentStroke, prevalentHyp and diabetes have yes or no."
      ]
    },
    {
      "cell_type": "code",
      "execution_count": null,
      "metadata": {
        "id": "ijaOpOcWY6Nb"
      },
      "outputs": [],
      "source": [
        "# Check for missing values in each feature\n",
        "# df.isnull().sum()\n",
        "print(f\"{'Feature': <20} \\t {'no. missing values': <20} \\t {'Percantage of missing values': <20}\")\n",
        "for col in df.columns:\n",
        "    print(f\"{col: <20} \\t {df[col].isna().sum(): <20} \\t {np.round(df[col].isna().sum()/df.shape[0],2)*100}%\")"
      ]
    },
    {
      "cell_type": "code",
      "execution_count": null,
      "metadata": {
        "id": "cX4M6bJUHa3w"
      },
      "outputs": [],
      "source": [
        "# drop first column by index\n",
        "df = df.drop(df.columns[0], axis=1)\n",
        "df.head()"
      ]
    },
    {
      "cell_type": "markdown",
      "metadata": {
        "id": "uh1NNBKNQ8Ct"
      },
      "source": [
        "The first column of the dataset shows the numbering for the observations and willnot be relevant to the analysis and project as such we drop it."
      ]
    },
    {
      "cell_type": "code",
      "execution_count": null,
      "metadata": {
        "id": "z7X167mFLkQB"
      },
      "outputs": [],
      "source": [
        "df.shape # Show the number of columns after dropping the first column"
      ]
    },
    {
      "cell_type": "markdown",
      "metadata": {
        "id": "Z8lz1p7NLXMl"
      },
      "source": [
        "### Encode categorical features"
      ]
    },
    {
      "cell_type": "code",
      "execution_count": null,
      "metadata": {
        "id": "sGufGWvnFKyT"
      },
      "outputs": [],
      "source": [
        "from sklearn.preprocessing import LabelEncoder\n",
        "\n",
        "label_encoder = LabelEncoder()\n",
        "for col in df.columns:\n",
        "    if df[col].dtype == 'object':\n",
        "        df[col] = label_encoder.fit_transform(df[col])\n",
        "df.head()"
      ]
    },
    {
      "cell_type": "markdown",
      "metadata": {
        "id": "BJabOz4uPqHY"
      },
      "source": [
        "From the above preview the categorical features have been encoded into 0 and 1.\n",
        "\n",
        "*   Male = 1; Female = 0\n",
        "*   Yes = 1; No = 0\n",
        "\n",
        "All values in the dataset are now numerical.\n",
        "\n"
      ]
    },
    {
      "cell_type": "code",
      "execution_count": null,
      "metadata": {
        "id": "66zr2-y2NcJy"
      },
      "outputs": [],
      "source": [
        "# Check the number of female who have TenYearCHD and those do not as x an d y variables\n",
        "x = df[df['TenYearCHD'] == 1]['sex'].sum()\n",
        "y = df[df['TenYearCHD'] == 0]['sex'].sum()\n",
        "print(f\"No. of female with TenYearCHD : {x}\")\n",
        "print(f\"No. of female without TenYearCHD : {y}\")"
      ]
    },
    {
      "cell_type": "code",
      "execution_count": null,
      "metadata": {
        "id": "s_jia5uMOhFJ"
      },
      "outputs": [],
      "source": [
        "# Plot a graph for the number of male and female who have TenYearCHD and those\n",
        "plt.figure(figsize=(10, 6))\n",
        "sns.countplot(x='sex', hue='TenYearCHD', data=df)\n",
        "plt.title('Number of Male and Female with or without TenYearCHD')\n",
        "plt.show()"
      ]
    },
    {
      "cell_type": "code",
      "execution_count": null,
      "metadata": {
        "id": "cBcdv0EdGBBa"
      },
      "outputs": [],
      "source": [
        "# Correlation Matrix\n",
        "plt.figure(figsize=(12,8))\n",
        "sns.heatmap(df.corr(), annot=True, fmt='.2f')\n",
        "plt.show()"
      ]
    },
    {
      "cell_type": "markdown",
      "metadata": {
        "id": "w5skPqyLEthj"
      },
      "source": [
        "The correlation matrix provides insights into the relationships between different features in the dataset. The correlation coefficient values range from -1 to 1, indicating the strength and direction of the relationship between the features.\n",
        "\n",
        "### Key Points of the Correlation Matrix\n",
        "1. Diagonal Elements:\n",
        "- The diagonal elements of the matrix are all 1, as each feature is perfectly correlated with itself.\n",
        "\n",
        "2. Correlation Values:\n",
        "- Positive values indicate a positive correlation: as one feature increases, the other feature tends to increase.\n",
        "- Negative values indicate a negative correlation: as one feature increases, the other feature tends to decrease.\n",
        "- Values close to 0 indicate little to no linear relationship between the features.\n",
        "3. Heatmap Colors:\n",
        "- The color intensity represents the magnitude of the correlation. Darker colors indicate stronger correlations (either positive or negative), while lighter colors indicate weaker correlations.\n",
        "\n",
        "### Notable Correlations\n",
        "- Sex and Current Smoker: Correlation = 0.20\n",
        " - There is a moderate positive correlation between being male and being a current smoker.\n",
        "- Age and TotChol: Correlation = 0.26\n",
        " - There is a moderate positive correlation between age and total cholesterol level.\n",
        "- Age and SysBP: Correlation = 0.39\n",
        " - There is a stronger positive correlation between age and systolic blood pressure.\n",
        "- Current Smoker and CigsPerDay: Correlation = 0.77\n",
        " - There is a very strong positive correlation between being a current smoker and the number of cigarettes smoked per day.\n",
        "- PrevalentHyp and SysBP: Correlation = 0.70\n",
        " - There is a strong positive correlation between having hypertension and systolic blood pressure.\n",
        "- SysBP and DiaBP: Correlation = 0.78\n",
        " - There is a very strong positive correlation between systolic blood pressure and diastolic blood pressure.\n",
        "- Diabetes and Glucose: Correlation = 0.62\n",
        " - There is a strong positive correlation between having diabetes and glucose level.\n",
        "- Age and TenYearCHD: Correlation = 0.23\n",
        " - There is a moderate positive correlation between age and the 10-year risk of coronary heart disease."
      ]
    },
    {
      "cell_type": "markdown",
      "metadata": {
        "id": "_HItgEF3HKBm"
      },
      "source": [
        "### Feature Selection and Splitting Data\n"
      ]
    },
    {
      "cell_type": "code",
      "execution_count": null,
      "metadata": {
        "id": "4PDHLSzaHZ91"
      },
      "outputs": [],
      "source": [
        "# Import libraries from scikitlearn\n",
        "from sklearn.model_selection import train_test_split\n",
        "from sklearn.preprocessing import StandardScaler\n",
        "from sklearn.ensemble import RandomForestClassifier\n",
        "from sklearn.metrics import accuracy_score, confusion_matrix, classification_report"
      ]
    },
    {
      "cell_type": "code",
      "execution_count": null,
      "metadata": {
        "id": "re06F3tWGavK"
      },
      "outputs": [],
      "source": [
        "X = df.drop('TenYearCHD', axis=1)\n",
        "y = df['TenYearCHD']\n",
        "print(X.shape)\n",
        "print(y.shape)"
      ]
    },
    {
      "cell_type": "markdown",
      "metadata": {
        "id": "8hlPBT5MXkmf"
      },
      "source": [
        "The target variable for our model is \"TenYearCHD\".\n",
        "\n",
        "X is a new DataFrame that contains all the columns from the original DataFrame df, that will be used to train the machine learning model, except for the TenYearCHD column.\n",
        "\n",
        "y represents the target variable (dependent variable) that the model will learn to predict.\n",
        "\n",
        "This prepares the data for machine learning by separating the independent variables (features) from the dependent variable (target)."
      ]
    },
    {
      "cell_type": "code",
      "execution_count": null,
      "metadata": {
        "id": "23QSZu8EHdb8"
      },
      "outputs": [],
      "source": [
        "# Split data into train and test data\n",
        "X_train, X_test, y_train, y_test = train_test_split(X, y, test_size=0.2, random_state=42)"
      ]
    },
    {
      "cell_type": "code",
      "execution_count": null,
      "metadata": {
        "id": "UfjSO2gPIYuw"
      },
      "outputs": [],
      "source": [
        "# Standardize features\n",
        "scaler = StandardScaler()\n",
        "X_train = scaler.fit_transform(X_train)\n",
        "X_test = scaler.transform(X_test)"
      ]
    },
    {
      "cell_type": "markdown",
      "metadata": {
        "id": "rFzj30bWJ8Jr"
      },
      "source": [
        "### Model Training and Evaluation"
      ]
    },
    {
      "cell_type": "code",
      "execution_count": null,
      "metadata": {
        "id": "NP3tDgY5JbTL"
      },
      "outputs": [],
      "source": [
        "# Handle missing values using SimpleImputer\n",
        "from sklearn.impute import SimpleImputer\n",
        "imputer = SimpleImputer(strategy='mean') # Replace missing values with the mean of the column\n",
        "X_train = imputer.fit_transform(X_train)\n",
        "X_test = imputer.transform(X_test)\n",
        "\n",
        "# Standardize features\n",
        "scaler = StandardScaler()\n",
        "X_train = scaler.fit_transform(X_train)\n",
        "X_test = scaler.transform(X_test)\n",
        "\n",
        "#  Train Random Forest Classifier\n",
        "clf = RandomForestClassifier(n_estimators=100, random_state=42)\n",
        "clf.fit(X_train, y_train)"
      ]
    },
    {
      "cell_type": "code",
      "execution_count": null,
      "metadata": {
        "id": "cRBFsm1hKOeb"
      },
      "outputs": [],
      "source": [
        "# Predict and Evaluate\n",
        "y_pred = clf.predict(X_test)\n",
        "print(\"Accuracy:\", accuracy_score(y_test, y_pred))\n",
        "print(\"Confusion Matrix:\\n\", confusion_matrix(y_test, y_pred))\n",
        "print(\"Classification Report:\\n\", classification_report(y_test, y_pred))"
      ]
    },
    {
      "cell_type": "markdown",
      "metadata": {
        "id": "z6CqSk0PkBk4"
      },
      "source": [
        "This output is a summary of the performance of a Random Forest model on the test dataset."
      ]
    },
    {
      "cell_type": "markdown",
      "metadata": {
        "id": "ut9i1VD4kJ1T"
      },
      "source": [
        "Accuracy: 0.8537735849056604\n",
        "  measures the proportion of correctly predicted instances (both positive and negative) out of the total instances. In this case, the accuracy is approximately 85.38%, meaning that 85.38% of the predictions made by the model are correct."
      ]
    },
    {
      "cell_type": "markdown",
      "metadata": {
        "id": "hpTsvDMDkY2i"
      },
      "source": [
        "The Confusion Matrix:\n",
        " [[713  11]\n",
        " [113  11]]\n",
        " helps visualize the performance of the classification model by showing the counts of true positive, true negative, false positive, and false negative predictions.\n",
        "*   True Negatives (TN): 713\n",
        "*   False Positives (FP): 11\n",
        "*   False Negatives (FN): 113\n",
        "*   True Positives (TP):11"
      ]
    },
    {
      "cell_type": "markdown",
      "metadata": {
        "id": "N9aMwHIflrQy"
      },
      "source": [
        "The classification report provides detailed metrics for each class (in this case, classes 0 and 1)."
      ]
    },
    {
      "cell_type": "markdown",
      "metadata": {
        "id": "32jfM5Qjl5Id"
      },
      "source": [
        "Class 0 (No CHD)\n",
        "\n",
        "* Precision: 0.86.\n",
        "The proportion of true negative predictions (class 0) among all negative predictions.\n",
        "Out of all predictions for class 0, 84% were correct.\n",
        "* Recall: 0.98.\n",
        "The proportion of true negative predictions (class 0) among all actual negatives.\n",
        "Out of all actual class 0 instances, 98% were correctly predicted as class 0.\n",
        "* F1-Score: 0.92.\n",
        "The harmonic mean of precision and recall. Higher value indicates better performance."
      ]
    },
    {
      "cell_type": "markdown",
      "metadata": {
        "id": "V3EorBnVmvw8"
      },
      "source": [
        "Class 1 (CHD)\n",
        "\n",
        "- Precision: 0.50.\n",
        "The proportion of true positive predictions (class 1) among all positive predictions.\n",
        "Out of all predictions for class 1, 50% were correct.\n",
        "- Recall: 0.09.\n",
        "The proportion of true positive predictions (class 1) among all actual positives.\n",
        "Out of all actual class 1 instances, only 9% were correctly predicted as class 1.\n",
        "- F1-Score: 0.15.\n",
        "The harmonic mean of precision and recall. For class 1, it balances the two metrics into a single score, which is quite low"
      ]
    },
    {
      "cell_type": "markdown",
      "metadata": {
        "id": "_JwV6mfXnqGh"
      },
      "source": [
        "### Overall Metrics"
      ]
    },
    {
      "cell_type": "markdown",
      "metadata": {
        "id": "PWKMGgyznik_"
      },
      "source": [
        "- Accuracy: 0.85\n",
        " - The overall accuracy of the model across both classes is 85%.\n",
        "- Macro Average: Precision = 0.68, Recall = 0.54, F1-Score = 0.54\n",
        " - The macro average calculates the metrics for each class independently and then takes the average, giving equal weight to each class.\n",
        "- Weighted Average: Precision = 0.81, Recall = 0.85, F1-Score = 0.81\n",
        " - The weighted average takes into account the support (number of true instances) of each class, giving more weight to the majority class."
      ]
    },
    {
      "cell_type": "markdown",
      "metadata": {
        "id": "e0WUrp5Xn2iH"
      },
      "source": [
        "### Interpretation"
      ]
    },
    {
      "cell_type": "markdown",
      "metadata": {
        "id": "VL1LYRV4ny46"
      },
      "source": [
        "- High Accuracy: The model has a high overall accuracy (85.38%), indicating it is generally good at predicting the correct class.\n",
        "- Class Imbalance: There is an imbalance between the classes (724 instances of class 0 vs. 124 instances of class 1), which can impact performance metrics.\n",
        "- Poor Performance for Class 1:\n",
        " - Low Precision and Recall: The model performs poorly in predicting class 1 (CHD). The precision is low (0.50), meaning many of the positive predictions are incorrect. The recall is very low (0.09), meaning the model misses many actual positive instances.\n",
        " - Low F1-Score: The F1-score for class 1 is also low (0.15), indicating poor overall performance in predicting this class."
      ]
    },
    {
      "cell_type": "markdown",
      "metadata": {
        "id": "QyXO9cx6LXON"
      },
      "source": [
        "### Feature Importance"
      ]
    },
    {
      "cell_type": "code",
      "execution_count": null,
      "metadata": {
        "id": "UfNNi3hELVcF"
      },
      "outputs": [],
      "source": [
        "feature_importances = clf.feature_importances_\n",
        "features = X.columns\n",
        "importance_df = pd.DataFrame({'Features': features, 'Importance': feature_importances})\n",
        "importance_df = importance_df.sort_values('Importance', ascending=False)\n",
        "plt.figure(figsize=(12,6))\n",
        "sns.barplot(x='Importance', y='Features', data=importance_df)\n",
        "plt.title('Feature Importance')\n",
        "plt.show()"
      ]
    },
    {
      "cell_type": "markdown",
      "metadata": {
        "id": "93Ai4S6ifzde"
      },
      "source": [
        "This visualization helps in understanding which features have the most significant impact on the model's predictions and can provide insights for feature selection or further analysis.\n",
        "\n",
        " Systolic blood pressure, BMI, and age are the top three most important features, indicating that these should be closely monitored and managed to reduce the risk of heart disease."
      ]
    },
    {
      "cell_type": "markdown",
      "metadata": {
        "id": "ThIInyjOLeC0"
      },
      "source": [
        "### Cross-Validation and Hyperparameter Tuning"
      ]
    },
    {
      "cell_type": "code",
      "execution_count": null,
      "metadata": {
        "id": "FrbFguzELcK0"
      },
      "outputs": [],
      "source": [
        "#  Cross validation"
      ]
    },
    {
      "cell_type": "code",
      "execution_count": null,
      "metadata": {
        "id": "ok3yurnPLpuL"
      },
      "outputs": [],
      "source": [
        "# Hyperparameter Tuning"
      ]
    },
    {
      "cell_type": "code",
      "execution_count": null,
      "metadata": {
        "id": "vwLYkBqyifmD"
      },
      "outputs": [],
      "source": []
    }
  ],
  "metadata": {
    "colab": {
      "provenance": []
    },
    "kernelspec": {
      "display_name": "Python 3",
      "name": "python3"
    },
    "language_info": {
      "name": "python"
    }
  },
  "nbformat": 4,
  "nbformat_minor": 0
}